{
 "cells": [
  {
   "cell_type": "code",
   "execution_count": 1,
   "id": "6a6c5043",
   "metadata": {
    "_cell_guid": "b1076dfc-b9ad-4769-8c92-a6c4dae69d19",
    "_uuid": "8f2839f25d086af736a60e9eeb907d3b93b6e0e5",
    "execution": {
     "iopub.execute_input": "2024-06-08T20:18:20.222516Z",
     "iopub.status.busy": "2024-06-08T20:18:20.222077Z",
     "iopub.status.idle": "2024-06-08T20:18:37.459240Z",
     "shell.execute_reply": "2024-06-08T20:18:37.458047Z"
    },
    "papermill": {
     "duration": 17.251173,
     "end_time": "2024-06-08T20:18:37.462066",
     "exception": false,
     "start_time": "2024-06-08T20:18:20.210893",
     "status": "completed"
    },
    "tags": []
   },
   "outputs": [
    {
     "name": "stderr",
     "output_type": "stream",
     "text": [
      "2024-06-08 20:18:25.075059: E external/local_xla/xla/stream_executor/cuda/cuda_dnn.cc:9261] Unable to register cuDNN factory: Attempting to register factory for plugin cuDNN when one has already been registered\n",
      "2024-06-08 20:18:25.075243: E external/local_xla/xla/stream_executor/cuda/cuda_fft.cc:607] Unable to register cuFFT factory: Attempting to register factory for plugin cuFFT when one has already been registered\n",
      "2024-06-08 20:18:25.238406: E external/local_xla/xla/stream_executor/cuda/cuda_blas.cc:1515] Unable to register cuBLAS factory: Attempting to register factory for plugin cuBLAS when one has already been registered\n"
     ]
    },
    {
     "name": "stdout",
     "output_type": "stream",
     "text": [
      "['dataset']\n"
     ]
    }
   ],
   "source": [
    "# Import những thư viên cần thiết\n",
    "import numpy as np\n",
    "import pandas as pd \n",
    "from sklearn.model_selection import train_test_split\n",
    "# Sử dụng thư viện Keras để tiền xử lý hình ảnh.\n",
    "from keras.preprocessing import image\n",
    "import os\n",
    "print(os.listdir(\"../input\"))\n",
    "import matplotlib.pyplot as plt\n",
    "import matplotlib.gridspec as gridspec\n",
    "import matplotlib as mpl\n",
    "import cv2\n",
    "from zipfile import ZipFile\n",
    "import time"
   ]
  },
  {
   "cell_type": "markdown",
   "id": "7460c978",
   "metadata": {
    "papermill": {
     "duration": 0.008809,
     "end_time": "2024-06-08T20:18:37.480184",
     "exception": false,
     "start_time": "2024-06-08T20:18:37.471375",
     "status": "completed"
    },
    "tags": []
   },
   "source": [
    "# <div style=\"padding: 30px;color:white;margin:10;font-size:60%;text-align:left;display:fill;border-radius:10px;background-color:#FFFFFF;overflow:hidden;background-color:#8fbc8f\"><b><span style='color:#FFFFFF'>1 |</span></b> <b>BỘ DỮ LIỆU</b></div>\n",
    "\n",
    "### <b><span style='color:#8FBC8F'> 1.1 |</span> Mô tả chung</b>\n",
    "Bộ dữ liệu được lấy từ một cuộc thi được tổ chức trên Kaggle mang tên [Aerial Cactus Identification](https://www.kaggle.com/competitions/aerial-cactus-identification) (Nhận diện xương rồng từ trên không) với mục đích xác định liệu hình ảnh có chứa xương rồng hay không.\n",
    "\n",
    "### <b><span style='color:#8FBC8F'> 1.2 |</span> Mô tả về cuộc thi</b>\n",
    "\n",
    "Để đánh giá tác động của biến đổi khí hậu đối với hệ thực vật và động vật trên Trái Đất, việc xác định sự ảnh hưởng từ các hoạt động của con người như chặt phá, khai thác gỗ, và nông nghiệp đến các khu vực tự nhiên được bảo vệ của chúng ta là rất quan trọng. Các nhà nghiên cứu tại Mexico đã tạo dự án [VIGIA](https://jivg.org/research-projects/vigia/), mục tiêu xây dựng một hệ thống giám sát tự động cho các khu vực được bảo vệ. Một bước đầu tiên trong nỗ lực như vậy là khả năng nhận biết thực vật bên trong các khu vực được bảo vệ. Và nhiệm vụ trong cuộc thi này là tạo ra một thuật toán có thể nhận diện loại cây xương rồng cụ thể trong hình ảnh được chụp từ không gian.\n",
    "\n",
    "### <b><span style='color:#8FBC8F'> 1.3 |</span> Mô tả về bộ dữ liệu</b>\n",
    "**Thông tin sơ lược:**\n",
    "\n",
    "Bộ dữ liệu này chứa một số lượng lớn hình ảnh thu nhỏ 32 x 32 chứa ảnh chụp từ trên cao của một loại cây xương rồng trụ (Neobuxbaumia tetetzo). Kaggle đã điều chỉnh kích thước ảnh từ bộ dữ liệu gốc để làm cho chúng cùng kích thước. Tên tệp của một hình ảnh tương ứng với id của nó.\n",
    "\n",
    "Nhiệm vụ: Tạo một mô hình phân loại có khả năng dự đoán xem một hình ảnh có chứa cây xương rồng hay không.\n",
    "\n",
    "**Thông tin cụ thể:**\n",
    "\n",
    "Bộ dữ liệu gồm các file sau: \n",
    "-\ttrain: các hình ảnh tập huấn luyện\t\n",
    "-\ttest: các hình ảnh tập kiểm tra\n",
    "-\ttrain.csv: các nhãn của tập huấn luyện, cho biết liệu hình ảnh có chứa cây xương rồng hay không (has_cactus = 1)\n",
    "-\tsample_submission.csv - một tệp nộp mẫu theo đúng định dạng.\n",
    "\n",
    "Ở đây ta sẽ tập trung vào các file là train và train.csv để làm dữ liệu input cho mô hình CNN.\n",
    "\n"
   ]
  },
  {
   "cell_type": "markdown",
   "id": "a8eea857",
   "metadata": {
    "papermill": {
     "duration": 0.008783,
     "end_time": "2024-06-08T20:18:37.497971",
     "exception": false,
     "start_time": "2024-06-08T20:18:37.489188",
     "status": "completed"
    },
    "tags": []
   },
   "source": [
    "# <div style=\"padding: 30px;color:white;margin:10;font-size:60%;text-align:left;display:fill;border-radius:10px;background-color:#FFFFFF;overflow:hidden;background-color:#8fbc8f\"><b><span style='color:#FFFFFF'>2 |</span></b> <b>TẢI, TIỀN XỬ LÝ VÀ KHÁM PHÁ DỮ LIỆU</b></div>\n",
    "\n",
    "### <b><span style='color:#8FBC8F'> 2.1 |</span> Tải dữ liệu</b>"
   ]
  },
  {
   "cell_type": "code",
   "execution_count": 2,
   "id": "42e46f33",
   "metadata": {
    "execution": {
     "iopub.execute_input": "2024-06-08T20:18:37.517894Z",
     "iopub.status.busy": "2024-06-08T20:18:37.517129Z",
     "iopub.status.idle": "2024-06-08T20:18:37.578310Z",
     "shell.execute_reply": "2024-06-08T20:18:37.576978Z"
    },
    "papermill": {
     "duration": 0.074365,
     "end_time": "2024-06-08T20:18:37.581221",
     "exception": false,
     "start_time": "2024-06-08T20:18:37.506856",
     "status": "completed"
    },
    "tags": []
   },
   "outputs": [
    {
     "name": "stdout",
     "output_type": "stream",
     "text": [
      "Shape of train data: (17500, 2)\n",
      "Number of labels in train data:\n",
      " has_cactus\n",
      "1    13136\n",
      "0     4364\n",
      "Name: count, dtype: int64\n"
     ]
    }
   ],
   "source": [
    "train_dir = \"/kaggle/input/dataset/train/train/\"\n",
    "#test_dir =\"/kaggle/input/dataset/test/test/\"\n",
    "# Tải file chứa nhãn của bộ dữ liệu\n",
    "train_labels=pd.read_csv(\"/kaggle/input/dataset/train.csv\")\n",
    "print('Shape of train data:',train_labels.shape)\n",
    "print('Number of labels in train data:\\n', train_labels['has_cactus'].value_counts())"
   ]
  },
  {
   "cell_type": "code",
   "execution_count": 3,
   "id": "4c0590c3",
   "metadata": {
    "execution": {
     "iopub.execute_input": "2024-06-08T20:18:37.602709Z",
     "iopub.status.busy": "2024-06-08T20:18:37.602265Z",
     "iopub.status.idle": "2024-06-08T20:21:29.453012Z",
     "shell.execute_reply": "2024-06-08T20:21:29.451824Z"
    },
    "papermill": {
     "duration": 171.864846,
     "end_time": "2024-06-08T20:21:29.456093",
     "exception": false,
     "start_time": "2024-06-08T20:18:37.591247",
     "status": "completed"
    },
    "tags": []
   },
   "outputs": [],
   "source": [
    "# Tiền xử lý hình ảnh sử dụng thư viện keras\n",
    "# Tạo list chứa nhãn của hình ảnh\n",
    "label=[]\n",
    "# Tạo list chưa ma trận hình ảnh\n",
    "image_feature = []\n",
    "image_id=train_labels['id']\n",
    "for i in image_id:\n",
    "    # Tải hình ảnh dưới dạng PIL format, có target size là (32,32,3)\n",
    "    img=image.load_img(train_dir+i, target_size=(32,32))\n",
    "    # Chuyển đổi hình ảnh dạng PIL thành mảng Numpy\n",
    "    img = image.img_to_array(img)\n",
    "    # Thực hiện chuẩn hóa hình ảnh bằng cách chia cho 255.0\n",
    "    img = img/255.0\n",
    "    image_feature.append(img)\n",
    "    label.append(train_labels[train_labels['id'] == i]['has_cactus'].values[0])\n",
    "# Tạo dataframe từ các hình ảnh đã tiền xử lý và nhãn tương ứng của chúng\n",
    "list_of_tuples=list(zip(image_feature,label))\n",
    "df = pd.DataFrame(list_of_tuples, columns = ['image', 'label'])\n",
    "# Tạo dữ liệu input cho mô hình\n",
    "X = np.array(image_feature)\n",
    "y=pd.get_dummies(df['label']).values\n",
    "# Chuyển đổi dữ liệu có dạng (number of images,number of channels,height image, width image)\n",
    "X = X.transpose(0,3,1,2)"
   ]
  },
  {
   "cell_type": "code",
   "execution_count": 4,
   "id": "227c9e99",
   "metadata": {
    "execution": {
     "iopub.execute_input": "2024-06-08T20:21:29.478309Z",
     "iopub.status.busy": "2024-06-08T20:21:29.477919Z",
     "iopub.status.idle": "2024-06-08T20:21:29.586374Z",
     "shell.execute_reply": "2024-06-08T20:21:29.585163Z"
    },
    "papermill": {
     "duration": 0.122359,
     "end_time": "2024-06-08T20:21:29.589124",
     "exception": false,
     "start_time": "2024-06-08T20:21:29.466765",
     "status": "completed"
    },
    "tags": []
   },
   "outputs": [
    {
     "name": "stdout",
     "output_type": "stream",
     "text": [
      "Train Images: 14000\n",
      "Test Images: 3500\n"
     ]
    }
   ],
   "source": [
    "# Chia dataset thành các tập train và test\n",
    "X_train, X_test, y_train, y_test = train_test_split(X, y, random_state=42, test_size=0.2)\n",
    "print(\"Train Images:\",X_train.shape[0])\n",
    "print(\"Test Images:\",X_test.shape[0])"
   ]
  },
  {
   "cell_type": "markdown",
   "id": "d495fc67",
   "metadata": {
    "papermill": {
     "duration": 0.010363,
     "end_time": "2024-06-08T20:21:29.608942",
     "exception": false,
     "start_time": "2024-06-08T20:21:29.598579",
     "status": "completed"
    },
    "tags": []
   },
   "source": [
    "### <b><span style='color:#8FBC8F'> 2.3 |</span> Khám phá dữ liệu</b>"
   ]
  },
  {
   "cell_type": "code",
   "execution_count": 5,
   "id": "16b644ab",
   "metadata": {
    "execution": {
     "iopub.execute_input": "2024-06-08T20:21:29.629335Z",
     "iopub.status.busy": "2024-06-08T20:21:29.628933Z",
     "iopub.status.idle": "2024-06-08T20:21:29.867557Z",
     "shell.execute_reply": "2024-06-08T20:21:29.866009Z"
    },
    "papermill": {
     "duration": 0.253635,
     "end_time": "2024-06-08T20:21:29.871952",
     "exception": false,
     "start_time": "2024-06-08T20:21:29.618317",
     "status": "completed"
    },
    "tags": []
   },
   "outputs": [
    {
     "data": {
      "image/png": "[encoded data removed]",
      "text/plain": [
       "<Figure size 800x800 with 1 Axes>"
      ]
     },
     "metadata": {},
     "output_type": "display_data"
    }
   ],
   "source": [
    "plt.figure(figsize = (8,8))\n",
    "plt.pie(train_labels['has_cactus'].value_counts(), labels=['Has cactus', 'Hasn\\'t cactus'], autopct='%.1f%%')\n",
    "plt.title('Distribution of Label in Dataset');"
   ]
  },
  {
   "cell_type": "code",
   "execution_count": 6,
   "id": "1643cb32",
   "metadata": {
    "execution": {
     "iopub.execute_input": "2024-06-08T20:21:29.899690Z",
     "iopub.status.busy": "2024-06-08T20:21:29.899255Z",
     "iopub.status.idle": "2024-06-08T20:21:31.594117Z",
     "shell.execute_reply": "2024-06-08T20:21:31.592828Z"
    },
    "papermill": {
     "duration": 1.709191,
     "end_time": "2024-06-08T20:21:31.596899",
     "exception": false,
     "start_time": "2024-06-08T20:21:29.887708",
     "status": "completed"
    },
    "tags": []
   },
   "outputs": [
    {
     "data": {
      "image/png": "[encoded data removed]",
      "text/plain": [
       "<Figure size 1500x600 with 12 Axes>"
      ]
     },
     "metadata": {},
     "output_type": "display_data"
    }
   ],
   "source": [
    "# Trực quan hình ảnh thuộc lớp có xuất hiện hình ảnh xương rồng\n",
    "plt.figure(figsize=(15, 6))\n",
    "grid = gridspec.GridSpec(2, 6)\n",
    "\n",
    "last_has_cactus_img_name = train_labels[train_labels['has_cactus'] == 1]['id'][-12:]\n",
    "\n",
    "for idx, img_name in enumerate(last_has_cactus_img_name):\n",
    "    img_path = '/kaggle/input/dataset/train/train/' + img_name\n",
    "    image = cv2.imread(img_path)\n",
    "    #image = cv2.cvtColor(image, cv2.COLOR_BGR2RGB)\n",
    "    ax = plt.subplot(grid[idx])\n",
    "    ax.imshow(image)"
   ]
  },
  {
   "cell_type": "code",
   "execution_count": 7,
   "id": "549c4117",
   "metadata": {
    "execution": {
     "iopub.execute_input": "2024-06-08T20:21:31.622564Z",
     "iopub.status.busy": "2024-06-08T20:21:31.622121Z",
     "iopub.status.idle": "2024-06-08T20:21:33.249240Z",
     "shell.execute_reply": "2024-06-08T20:21:33.247611Z"
    },
    "papermill": {
     "duration": 1.643379,
     "end_time": "2024-06-08T20:21:33.252404",
     "exception": false,
     "start_time": "2024-06-08T20:21:31.609025",
     "status": "completed"
    },
    "tags": []
   },
   "outputs": [
    {
     "data": {
      "image/png": "[encoded data removed]",
      "text/plain": [
       "<Figure size 1500x600 with 12 Axes>"
      ]
     },
     "metadata": {},
     "output_type": "display_data"
    }
   ],
   "source": [
    "# Trực quan hình ảnh thuộc lớp không có xuất hiện hình ảnh xương rồng\n",
    "plt.figure(figsize=(15, 6))\n",
    "grid = gridspec.GridSpec(2, 6)\n",
    "\n",
    "last_has_cactus_img_name = train_labels[train_labels['has_cactus'] == 0]['id'][-12:]\n",
    "\n",
    "for idx, img_name in enumerate(last_has_cactus_img_name):\n",
    "    img_path = '/kaggle/input/dataset/train/train/' + img_name\n",
    "    image = cv2.imread(img_path)\n",
    "    #image = cv2.cvtColor(image, cv2.COLOR_BGR2RGB)\n",
    "    ax = plt.subplot(grid[idx])\n",
    "    ax.imshow(image)"
   ]
  },
  {
   "cell_type": "markdown",
   "id": "4203573b",
   "metadata": {
    "papermill": {
     "duration": 0.01207,
     "end_time": "2024-06-08T20:21:33.277761",
     "exception": false,
     "start_time": "2024-06-08T20:21:33.265691",
     "status": "completed"
    },
    "tags": []
   },
   "source": [
    "# <div style=\"padding: 30px;color:white;margin:10;font-size:60%;text-align:left;display:fill;border-radius:10px;background-color:#FFFFFF;overflow:hidden;background-color:#8fbc8f\"><b><span style='color:#FFFFFF'>3 |</span></b> <b>CÀI ĐẶT CÁC HÀM </b></div>"
   ]
  },
  {
   "cell_type": "markdown",
   "id": "8ea4de3c",
   "metadata": {
    "papermill": {
     "duration": 0.012282,
     "end_time": "2024-06-08T20:21:33.302421",
     "exception": false,
     "start_time": "2024-06-08T20:21:33.290139",
     "status": "completed"
    },
    "tags": []
   },
   "source": [
    "### <b><span style='color:#8FBC8F'> 3.1 | </span> Xây dựng CNN model </b>"
   ]
  },
  {
   "cell_type": "code",
   "execution_count": 8,
   "id": "49eeacb6",
   "metadata": {
    "execution": {
     "iopub.execute_input": "2024-06-08T20:21:33.330635Z",
     "iopub.status.busy": "2024-06-08T20:21:33.330152Z",
     "iopub.status.idle": "2024-06-08T20:21:35.026599Z",
     "shell.execute_reply": "2024-06-08T20:21:35.025552Z"
    },
    "papermill": {
     "duration": 1.714027,
     "end_time": "2024-06-08T20:21:35.029416",
     "exception": false,
     "start_time": "2024-06-08T20:21:33.315389",
     "status": "completed"
    },
    "tags": []
   },
   "outputs": [],
   "source": [
    "# Build CNN model\n",
    "import numpy as np\n",
    "from numba import cuda\n",
    "import time\n",
    "class Layer():\n",
    "\n",
    "    def forward(self, inputs):\n",
    "        pass\n",
    "\n",
    "    def backward(self, output_gradient, learning_rate):\n",
    "        pass\n",
    "\n",
    "    def get_out_shape(self):\n",
    "        pass\n",
    "\n",
    "    def init_weight(self):\n",
    "        pass\n",
    "\n",
    "class CNNModel:\n",
    "    def __init__(self, layers):#: list(Layer) = []):\n",
    "        pre_layer = layers[0]\n",
    "        pre_layer.init_weight()\n",
    "        for layer in layers[1:]:\n",
    "            layer.input_shape = pre_layer.get_out_shape()\n",
    "            layer.init_weight()\n",
    "            pre_layer = layer\n",
    "        self.layers: list[Layer] = layers\n",
    "\n",
    "    def forward(self, X):\n",
    "        output = X\n",
    "        for layer in self.layers:\n",
    "#             start = time.time()\n",
    "            output = layer.forward(output)\n",
    "#             end = time.time()\n",
    "#             print(layer,' forward', end - start)\n",
    "        return output\n",
    "\n",
    "    def backward(self, out_grad, learning_rate):\n",
    "        for layer in reversed(self.layers):\n",
    "#             start = time.time()\n",
    "            out_grad = layer.backward(out_grad, learning_rate)\n",
    "#             end = time.time()\n",
    "#             print(layer,' backward', end - start)\n",
    "        return out_grad\n",
    "\n",
    "    def fit(self, X_train, Y_train, epochs=1, batch_size=32, learning_rate=0.001):\n",
    "        num_batch = (len(X_train)-1)//batch_size+1\n",
    "        for i_epoch in range(epochs):\n",
    "            print(f\"\\nEpoch {i_epoch+1}/{epochs}:\")\n",
    "            train_loss = 0\n",
    "            acc = 0\n",
    "            progress = '.'*30\n",
    "            for i in range(num_batch-1):\n",
    "\n",
    "                batch_start = i * batch_size\n",
    "                batch_end = (i + 1) * batch_size\n",
    "                batch_X = X_train[batch_start: batch_end]\n",
    "                batch_Y = Y_train[batch_start: batch_end]\n",
    "                #start_forward = time.time()\n",
    "                predictions = self.forward(batch_X)\n",
    "                #end_forward = time.time()\n",
    "                #print(end_forward - start_forward)\n",
    "                out_grad = 2.0 * (predictions - batch_Y)\n",
    "                #start_backward = time.time()\n",
    "                self.backward(out_grad, learning_rate)\n",
    "                #end_backward = time.time()\n",
    "                #print(end_backward - start_backward)\n",
    "\n",
    "                # print result\n",
    "                acc_batch = np.mean(\n",
    "                    np.argmax(predictions, axis=1) == np.argmax(batch_Y, axis=1))\n",
    "                acc += acc_batch\n",
    "                loss = np.sum((predictions - batch_Y) ** 2)\n",
    "                train_loss += loss\n",
    "                i_str = int(i/num_batch*30)\n",
    "                progress = progress[:i_str] + \">\" + progress[i_str+1:]\n",
    "                print(\n",
    "                    f\"\\r {i}/{num_batch} [{progress}] accuaray: {acc_batch:.5f}, train loss = {loss/len(batch_Y):.5f}\", end='')\n",
    "                progress = progress[:i_str] + \"=\" + progress[i_str+1:]\n",
    "\n",
    "            train_loss /= len(X_train)\n",
    "\n",
    "            print(\n",
    "                f\"\\r {num_batch}/{num_batch} [{progress}] accuaray: {acc/num_batch:.5f}, train loss = {train_loss:.5f}\", end='')\n",
    "\n",
    "    def predict(self, X):\n",
    "        return self.forward(X)\n",
    "    \n",
    "    def evaluate(self, X_test, y_test):\n",
    "        y_pred = self.forward(X_test)\n",
    "        acc = np.sum(np.argmax(y_pred, axis=1) == np.argmax(y_test, axis=1))/y_test.shape[0]\n",
    "        print(f'Accuracy for the test set is {acc}')\n",
    "        return acc\n",
    "    \n",
    "    def use_device(self, value):\n",
    "        for layer in self.layers:\n",
    "            output = layer.use_device = value\n",
    "\n",
    "\n",
    "class Flatten(Layer):\n",
    "    def __init__(self, input_shape=(32, 32, 3)):\n",
    "        self.input_shape = input_shape\n",
    "        pass\n",
    "\n",
    "    def get_out_shape(self):\n",
    "        t = 1\n",
    "        for i in self.input_shape:\n",
    "            t *= i\n",
    "        return t\n",
    "\n",
    "    def forward(self, inputs):\n",
    "        self.inputs = inputs\n",
    "        assert self.input_shape == inputs.shape[1:], \"Input shape incorrect\"\n",
    "        return inputs.reshape(inputs.shape[0], -1)\n",
    "\n",
    "    def backward(self, output_gradient, learning_rate):\n",
    "        shape = self.inputs.shape\n",
    "        return output_gradient.reshape(shape)\n",
    "\n",
    "    def init_weight(self):\n",
    "        pass"
   ]
  },
  {
   "cell_type": "markdown",
   "id": "4a205008",
   "metadata": {
    "papermill": {
     "duration": 0.01229,
     "end_time": "2024-06-08T20:21:35.055074",
     "exception": false,
     "start_time": "2024-06-08T20:21:35.042784",
     "status": "completed"
    },
    "tags": []
   },
   "source": [
    "### <b><span style='color:#8FBC8F'> 3.2 | </span> Convolutional Layer </b>"
   ]
  },
  {
   "cell_type": "code",
   "execution_count": 9,
   "id": "494da500",
   "metadata": {
    "execution": {
     "iopub.execute_input": "2024-06-08T20:21:35.082348Z",
     "iopub.status.busy": "2024-06-08T20:21:35.081842Z",
     "iopub.status.idle": "2024-06-08T20:21:35.104315Z",
     "shell.execute_reply": "2024-06-08T20:21:35.103119Z"
    },
    "papermill": {
     "duration": 0.039155,
     "end_time": "2024-06-08T20:21:35.106834",
     "exception": false,
     "start_time": "2024-06-08T20:21:35.067679",
     "status": "completed"
    },
    "tags": []
   },
   "outputs": [],
   "source": [
    "# Convolution Layer\n",
    "class Convolution(Layer):\n",
    "    def __init__(self, n_filters=32, filter_size=3, stride=1, activation=None, input_shape=(3, 32, 32)):\n",
    "        self.input_shape = input_shape\n",
    "        self.n_filters = n_filters\n",
    "        self.filter_size = filter_size\n",
    "        self.stride = stride\n",
    "        self.activation = activation\n",
    "        self.use_device = False\n",
    "        self.bias = np.zeros((n_filters, 1))\n",
    "        self.init_weight()\n",
    "\n",
    "    def get_out_shape(self):\n",
    "        output_width = (self.input_shape[2] -\n",
    "                        self.filter_size) // self.stride + 1\n",
    "        output_height = (\n",
    "            self.input_shape[1] - self.filter_size) // self.stride + 1\n",
    "\n",
    "        return ( self.n_filters,output_height, output_width)\n",
    "\n",
    "    def init_weight(self):\n",
    "        np.random.seed(10)\n",
    "        self.weights = np.random.randn(\n",
    "            self.n_filters, self.input_shape[0],self.filter_size, self.filter_size)/(self.filter_size**2)\n",
    "    def forward(self, inputs):\n",
    "        self.inputs = inputs\n",
    "        n_batchs, n_chanels,in_height, in_width = inputs.shape\n",
    "        assert self.input_shape == inputs.shape[1:], \"Input shape incorrect\"\n",
    "        output_height, output_width = self.get_out_shape()[1:]\n",
    "        outputs = np.zeros( (n_batchs, self.n_filters,output_height, output_width ))\n",
    "        for row in range(output_height):\n",
    "            for col in range(output_width):\n",
    "                for f_idx in range(self.n_filters):\n",
    "                    row_start = row * self.stride\n",
    "                    row_end = row_start + self.filter_size\n",
    "                    col_start = col * self.stride\n",
    "                    col_end = col_start + self.filter_size\n",
    "                    outputs[:,f_idx, row, col ] = np.sum(\n",
    "                        self.weights[f_idx]*inputs[:, :, row_start:row_end, col_start:col_end],axis=(1,2,3) )\n",
    "\n",
    "        if(self.activation == \"relu\"):\n",
    "            outputs = np.maximum(0, outputs)\n",
    "\n",
    "        return outputs\n",
    "\n",
    "    def backward(self, output_gradient, learning_rate):\n",
    "        n_batchs,input_channels, input_height, input_width = self.inputs.shape\n",
    "        _,n_filters,  output_height, output_width = output_gradient.shape\n",
    "\n",
    "        filter_gradient = np.zeros(self.weights.shape)\n",
    "        input_gradient = np.zeros(self.inputs.shape)\n",
    "        # for i_batch in range(n_batchs):\n",
    "        for row in range(output_height):\n",
    "            for col in range(output_width):\n",
    "                for fillterIdx in range(n_filters):\n",
    "                    row_start = row * self.stride\n",
    "                    row_end = row_start + self.filter_size\n",
    "                    col_start = col * self.stride\n",
    "                    col_end = col_start + self.filter_size\n",
    "                    out_grad_val = output_gradient[:,fillterIdx, row, col,np.newaxis,np.newaxis,np.newaxis]\n",
    "                    filter_gradient[fillterIdx] +=  np.sum(self.inputs[:, :, row_start:row_end, col_start:col_end] * out_grad_val,axis=0)\n",
    "                    input_gradient[:,: , row_start:row_end, col_start:col_end] += self.weights[fillterIdx] * out_grad_val\n",
    "\n",
    "        if(self.activation == \"relu\"):\n",
    "              input_gradient[self.inputs <= 0] = 0\n",
    "\n",
    "        self.weights -= learning_rate * filter_gradient/n_batchs\n",
    "        return input_gradient\n",
    "\n"
   ]
  },
  {
   "cell_type": "markdown",
   "id": "5d0121a0",
   "metadata": {
    "papermill": {
     "duration": 0.012391,
     "end_time": "2024-06-08T20:21:35.132474",
     "exception": false,
     "start_time": "2024-06-08T20:21:35.120083",
     "status": "completed"
    },
    "tags": []
   },
   "source": [
    "# <div style=\"padding: 10px;color:white;margin:10;font-size:60%;text-align:left;display:fill;border-radius:10px;background-color:#FFFFFF;overflow:hidden;background-color:#a5d6a7\"><b>Thiết kế Convolutional Layer</b></div>\n",
    "\n",
    "**Forward:**\n",
    "\n",
    "  - Input: Tập ảnh đầu vào, số lượng filter, kích thước filter, stride,   hàm kích hoạt\n",
    "  - Các bước thực hiện:\n",
    "  \n",
    "        - Cấp phát bộ nhớ cho tập ảnh đầu ra\n",
    "        - Tạo ngẫu nhiên trọng số cho các filter\n",
    "        - Thực hiện convolution cho từng pixel theo số lượng filter bằng cách sử dụng các vòng lặp lồng nhau\n",
    "        - Áp dụng hàm kích hoạt cho kết quả vừa tạo ra\n",
    "    \n",
    "  - Output: Tập ảnh kết quả\n",
    "\n",
    "**Backward:**\n",
    "  - Input: Output gradient, learning rate\n",
    "  - Các bước thực hiện:\n",
    "  \n",
    "        - Cấp phát bộ nhớ cho input gradient và filter gradient\n",
    "  \n",
    "        - Tính toán input gradient và filter gradient\n",
    "  \n",
    "        - Cập nhật trọng số cho filter: filter = filter - learning rate * filter gradient\n",
    "  \n",
    "  - Output: Input gradient\n"
   ]
  },
  {
   "cell_type": "markdown",
   "id": "37476aa4",
   "metadata": {
    "papermill": {
     "duration": 0.012194,
     "end_time": "2024-06-08T20:21:35.157297",
     "exception": false,
     "start_time": "2024-06-08T20:21:35.145103",
     "status": "completed"
    },
    "tags": []
   },
   "source": [
    "### <b><span style='color:#8FBC8F'> 3.3 | </span> Maxpooling Layer </b>"
   ]
  },
  {
   "cell_type": "code",
   "execution_count": 10,
   "id": "a2ca815d",
   "metadata": {
    "execution": {
     "iopub.execute_input": "2024-06-08T20:21:35.184612Z",
     "iopub.status.busy": "2024-06-08T20:21:35.184155Z",
     "iopub.status.idle": "2024-06-08T20:21:35.200806Z",
     "shell.execute_reply": "2024-06-08T20:21:35.199709Z"
    },
    "papermill": {
     "duration": 0.033306,
     "end_time": "2024-06-08T20:21:35.203327",
     "exception": false,
     "start_time": "2024-06-08T20:21:35.170021",
     "status": "completed"
    },
    "tags": []
   },
   "outputs": [],
   "source": [
    "# Maxpooling Layer\n",
    "\n",
    "class MaxPool2D(Layer):\n",
    "    def __init__(self, pool_size=2, stride=2, input_shape=(3,32, 32)):\n",
    "        self.pool_size = pool_size\n",
    "        self.stride = stride\n",
    "        self.use_device = False\n",
    "        self.inputs = None\n",
    "        self.inputs_device = None\n",
    "        self.input_shape = input_shape\n",
    "\n",
    "    def get_out_shape(self):\n",
    "        output_height = ( self.input_shape[1] - self.pool_size) // self.stride + 1\n",
    "        output_width = (self.input_shape[2] -  self.pool_size) // self.stride + 1\n",
    "        return (self.input_shape[0],output_height, output_width)\n",
    "\n",
    "    def forward(self, inputs):\n",
    "        # Save input\n",
    "        batch_size,num_channels, input_height, input_width = inputs.shape\n",
    "        assert self.input_shape == inputs.shape[1:], \"Input shape incorrect\"\n",
    "        self.inputs = inputs\n",
    "        ( _,output_height, output_width) = self.get_out_shape()\n",
    "\n",
    "        outputs = np.zeros( (batch_size,num_channels, output_height, output_width))\n",
    "        for h in range(output_height):\n",
    "            for w in range(output_width):\n",
    "                h_start = h * self.stride\n",
    "                h_end = h_start + self.pool_size\n",
    "                w_start = w * self.stride\n",
    "                w_end = w_start + self.pool_size\n",
    "                outputs[:, :,h, w] = np.max( inputs[:, :, h_start:h_end, w_start:w_end], axis=(2, 3))\n",
    "\n",
    "        return outputs\n",
    "\n",
    "\n",
    "    def backward(self, output_gradient, learning_rate):\n",
    "        batch_size,num_channels, output_height, output_width = output_gradient.shape\n",
    "        input_gradient = np.zeros(self.inputs.shape)\n",
    "        for h in range(output_height):\n",
    "            for w in range(output_width):\n",
    "                h_start = h * self.stride\n",
    "                h_end = h_start + self.pool_size\n",
    "                w_start = w * self.stride\n",
    "                w_end = w_start + self.pool_size\n",
    "                input_slice = self.inputs[:, :, h_start:h_end, w_start:w_end]\n",
    "                max_vals = np.max(input_slice, axis=(2, 3), keepdims=True)\n",
    "                max_mask = (input_slice == max_vals)\n",
    "                input_gradient[:,:, h_start:h_end, w_start:w_end] += max_mask * output_gradient[:,:,  h, w,  np.newaxis, np.newaxis]\n",
    "        return input_gradient\n",
    "    def init_weight(self):\n",
    "        pass\n",
    "\n"
   ]
  },
  {
   "cell_type": "markdown",
   "id": "ee604630",
   "metadata": {
    "papermill": {
     "duration": 0.012342,
     "end_time": "2024-06-08T20:21:35.228228",
     "exception": false,
     "start_time": "2024-06-08T20:21:35.215886",
     "status": "completed"
    },
    "tags": []
   },
   "source": [
    "# <div style=\"padding: 10px;color:white;margin:10;font-size:60%;text-align:left;display:fill;border-radius:10px;background-color:#FFFFFF;overflow:hidden;background-color:#a5d6a7\"><b>Thiết kế Maxpooling Layer</b></div>\n",
    "\n",
    "**Forward:**\n",
    "- Input: Ma trận đầu vào, kích thước pool, stride\n",
    "- Các bước thực hiện:\n",
    "\n",
    "      - Tính kích thước ma trận kết quả\n",
    "\n",
    "      - Ứng với mỗi cột và dòng của ma trận kết quả lấy số lớn nhất trong từng vùng của ma trận đầu vào ứng với kích thước pool sau dịch chuyển vùng này sang một khoảng stride và tiếp tục cho đến hết\n",
    "\n",
    "- Output: Ma trận kết quả\n",
    "\n",
    "**Backward:**\n",
    "- Input: Output gradient, learning rate\n",
    "- Các bước thực hiện:\n",
    "\n",
    "      - Cấp phát bộ nhớ cho input gradient\n",
    "\n",
    "      - Duyệt qua tất cả hình ảnh đã được pool theo chiều rộng và chiều cao để xác định vị trí pixel lớn nhất đã được chọn\n",
    "\n",
    "      - Tính toán input gradient\n",
    "\n",
    "- Output: Input gradient\n"
   ]
  },
  {
   "cell_type": "markdown",
   "id": "bd7f3db3",
   "metadata": {
    "papermill": {
     "duration": 0.012225,
     "end_time": "2024-06-08T20:21:35.253053",
     "exception": false,
     "start_time": "2024-06-08T20:21:35.240828",
     "status": "completed"
    },
    "tags": []
   },
   "source": [
    "### <b><span style='color:#8FBC8F'> 3.4 | </span> Dense Layer </b>"
   ]
  },
  {
   "cell_type": "code",
   "execution_count": 11,
   "id": "4fb621bd",
   "metadata": {
    "execution": {
     "iopub.execute_input": "2024-06-08T20:21:35.281422Z",
     "iopub.status.busy": "2024-06-08T20:21:35.281013Z",
     "iopub.status.idle": "2024-06-08T20:21:35.297812Z",
     "shell.execute_reply": "2024-06-08T20:21:35.296609Z"
    },
    "papermill": {
     "duration": 0.03307,
     "end_time": "2024-06-08T20:21:35.300019",
     "exception": false,
     "start_time": "2024-06-08T20:21:35.266949",
     "status": "completed"
    },
    "tags": []
   },
   "outputs": [],
   "source": [
    "# Dense Layer\n",
    "class Dense(Layer):\n",
    "    def __init__(self, num_outputs, activation=None, input_shape=100):\n",
    "        self.num_outputs = num_outputs\n",
    "        self.biases = np.zeros((1, num_outputs))\n",
    "        self.activation = activation\n",
    "        self.use_device = False\n",
    "        self.inputs = None\n",
    "        self.input_shape = input_shape\n",
    "        self.init_weight()\n",
    "\n",
    "    def init_weight(self):\n",
    "        self.weights = np.random.randn(\n",
    "            self.input_shape, self.num_outputs) / self.num_outputs\n",
    "\n",
    "    def get_out_shape(self):\n",
    "        return self.num_outputs\n",
    "\n",
    "    def forward(self, inputs):\n",
    "        self.inputs = inputs\n",
    "        assert self.input_shape == inputs.shape[-1], \"Input shape incorrect\"\n",
    "        outputs = np.dot(inputs, self.weights) + self.biases\n",
    "        if self.activation == \"softmax\":\n",
    "            outputs = self.softmax(outputs)\n",
    "        return outputs\n",
    "\n",
    "    def softmax(self, x):\n",
    "        e_x = np.exp(x-np.max(x, axis=1, keepdims=True))\n",
    "        return e_x/e_x.sum(axis=1, keepdims=True)\n",
    "\n",
    "    def backward(self, output_gradient, learning_rate):\n",
    "        input_grad = np.dot(output_gradient, self.weights.T)\n",
    "        weights_gradient = np.dot(self.inputs.T, output_gradient)\n",
    "        biases_gradient = np.sum(output_gradient, axis=0, keepdims=True)\n",
    "        self.weights -= learning_rate * weights_gradient\n",
    "        self.biases -= learning_rate * biases_gradient\n",
    "        return input_grad\n",
    "\n",
    "\n",
    "class Flatten(Layer):\n",
    "    def __init__(self, input_shape=(32, 32, 3)):\n",
    "        self.input_shape = input_shape\n",
    "        pass\n",
    "\n",
    "    def get_out_shape(self):\n",
    "        t = 1\n",
    "        for i in self.input_shape:\n",
    "            t *= i\n",
    "        return t\n",
    "\n",
    "    def forward(self, inputs):\n",
    "        self.inputs = inputs\n",
    "        assert self.input_shape == inputs.shape[1:], \"Input shape incorrect\"\n",
    "        return inputs.reshape(inputs.shape[0], -1)\n",
    "\n",
    "    def backward(self, output_gradient, learning_rate):\n",
    "        shape = self.inputs.shape\n",
    "        return output_gradient.reshape(shape)\n",
    "\n",
    "    def init_weight(self):\n",
    "        pass"
   ]
  },
  {
   "cell_type": "markdown",
   "id": "2b92ac3a",
   "metadata": {
    "papermill": {
     "duration": 0.01266,
     "end_time": "2024-06-08T20:21:35.325285",
     "exception": false,
     "start_time": "2024-06-08T20:21:35.312625",
     "status": "completed"
    },
    "tags": []
   },
   "source": [
    "# <div style=\"padding: 10px;color:white;margin:10;font-size:60%;text-align:left;display:fill;border-radius:10px;background-color:#FFFFFF;overflow:hidden;background-color:#a5d6a7\"><b>Thiết kế Dense Layer</b></div>\n",
    "\n",
    "**Forward:**\n",
    "- Input: Ma trận đầu vào, số lượng output mong muốn, hàm kích hoạt\n",
    "- Các bước thực hiện:\n",
    "\n",
    "      - Khởi tạo ngẫu nhiên ma trận trọng số\n",
    "\n",
    "      - Thực hiện nhân ma trận đầu vào với ma trận trọng số cộng với ma trận bias tạo ra ma trận kết quả\n",
    "\n",
    "      - Với hàm kích hoạt là softmax thì kết quả sẽ ra ma trận xác suất của các lớp\n",
    "      \n",
    "- Output: Ma trận kết quả\n",
    "\n",
    "**Backward:**\n",
    "- Input: Output gradient, Learning rate\n",
    "- Các bước thực hiện:\n",
    "\n",
    "      - Nhân ma trận output gradient với nghịch đảo của ma trận trong số tạo ra ma trận input gradient\n",
    "\n",
    "      - Cập nhật ma trận trọng số:\n",
    "\n",
    "      - weights = weights - (learning rate * weights gradient)\n",
    "\n",
    "      (Trong đó weights gradient = nghịch đảo của ma trận đầu vào của lớp trước đó nhân với output gradient)\n",
    "\n",
    "      - Cập nhật chỉ số bias: bias = bias - (learning rate * bias gradient)\n",
    "\n",
    "    (Trong đó bias gradient = tổng của tất các cột của output gradient)\n",
    "\n",
    "- Output: Input gradient\n"
   ]
  },
  {
   "cell_type": "markdown",
   "id": "6892accb",
   "metadata": {
    "papermill": {
     "duration": 0.012658,
     "end_time": "2024-06-08T20:21:35.350507",
     "exception": false,
     "start_time": "2024-06-08T20:21:35.337849",
     "status": "completed"
    },
    "tags": []
   },
   "source": [
    "# <div style=\"padding: 30px;color:white;margin:10;font-size:60%;text-align:left;display:fill;border-radius:10px;background-color:#FFFFFF;overflow:hidden;background-color:#8fbc8f\"><b><span style='color:#FFFFFF'>4 |</span></b> <b>CÀI ĐẶT MÔ HÌNH CNN </b></div>"
   ]
  },
  {
   "cell_type": "markdown",
   "id": "34d071a5",
   "metadata": {
    "papermill": {
     "duration": 0.012343,
     "end_time": "2024-06-08T20:21:35.375932",
     "exception": false,
     "start_time": "2024-06-08T20:21:35.363589",
     "status": "completed"
    },
    "tags": []
   },
   "source": [
    "### <b><span style='color:#8FBC8F'> 4.1 | </span> Mô hình CNN </b>  "
   ]
  },
  {
   "cell_type": "code",
   "execution_count": 12,
   "id": "dcd05b90",
   "metadata": {
    "execution": {
     "iopub.execute_input": "2024-06-08T20:21:35.403384Z",
     "iopub.status.busy": "2024-06-08T20:21:35.402950Z",
     "iopub.status.idle": "2024-06-08T20:21:35.435340Z",
     "shell.execute_reply": "2024-06-08T20:21:35.434380Z"
    },
    "papermill": {
     "duration": 0.049582,
     "end_time": "2024-06-08T20:21:35.438155",
     "exception": false,
     "start_time": "2024-06-08T20:21:35.388573",
     "status": "completed"
    },
    "tags": []
   },
   "outputs": [],
   "source": [
    "modelI=CNNModel([ \n",
    "    Convolution(n_filters=16, filter_size=3, stride=1,activation='relu',input_shape=(3,32,32)),\n",
    "    MaxPool2D(pool_size=2), \n",
    "    Convolution(n_filters=32, filter_size=3, stride=1,activation='relu'),\n",
    "    Flatten(),\n",
    "    Dense(128),\n",
    "    Dense(2, activation='softmax')\n",
    "])"
   ]
  },
  {
   "cell_type": "markdown",
   "id": "4db0b155",
   "metadata": {
    "papermill": {
     "duration": 0.012639,
     "end_time": "2024-06-08T20:21:35.463577",
     "exception": false,
     "start_time": "2024-06-08T20:21:35.450938",
     "status": "completed"
    },
    "tags": []
   },
   "source": [
    "### <b><span style='color:#8FBC8F'> 4.2 | </span> Training </b>  "
   ]
  },
  {
   "cell_type": "code",
   "execution_count": 13,
   "id": "dde432a5",
   "metadata": {
    "execution": {
     "iopub.execute_input": "2024-06-08T20:21:35.491012Z",
     "iopub.status.busy": "2024-06-08T20:21:35.490610Z",
     "iopub.status.idle": "2024-06-08T21:14:21.507549Z",
     "shell.execute_reply": "2024-06-08T21:14:21.505812Z"
    },
    "papermill": {
     "duration": 3166.033889,
     "end_time": "2024-06-08T21:14:21.510273",
     "exception": false,
     "start_time": "2024-06-08T20:21:35.476384",
     "status": "completed"
    },
    "tags": []
   },
   "outputs": [
    {
     "name": "stdout",
     "output_type": "stream",
     "text": [
      "\n",
      "Epoch 1/5:\n",
      " 110/110 [==============================] accuaray: 0.74062, train loss = 0.34703\n",
      "Epoch 2/5:\n",
      " 110/110 [==============================] accuaray: 0.84148, train loss = 0.22046\n",
      "Epoch 3/5:\n",
      " 110/110 [==============================] accuaray: 0.88501, train loss = 0.16041\n",
      "Epoch 4/5:\n",
      " 110/110 [==============================] accuaray: 0.90206, train loss = 0.13568\n",
      "Epoch 5/5:\n",
      " 110/110 [==============================] accuaray: 0.90114, train loss = 0.13880CPU times: user 54min 17s, sys: 2min 6s, total: 56min 23s\n",
      "Wall time: 52min 46s\n"
     ]
    }
   ],
   "source": [
    "%%time\n",
    "modelI.fit(X_train,y_train, epochs=5, batch_size=128)"
   ]
  },
  {
   "cell_type": "markdown",
   "id": "97fbfac0",
   "metadata": {
    "papermill": {
     "duration": 0.063456,
     "end_time": "2024-06-08T21:14:21.636575",
     "exception": false,
     "start_time": "2024-06-08T21:14:21.573119",
     "status": "completed"
    },
    "tags": []
   },
   "source": [
    "### <b><span style='color:#8FBC8F'> 4.3 | </span> Predicting </b>  "
   ]
  },
  {
   "cell_type": "code",
   "execution_count": 14,
   "id": "7872c68a",
   "metadata": {
    "execution": {
     "iopub.execute_input": "2024-06-08T21:14:21.766896Z",
     "iopub.status.busy": "2024-06-08T21:14:21.766482Z",
     "iopub.status.idle": "2024-06-08T21:15:31.546624Z",
     "shell.execute_reply": "2024-06-08T21:15:31.536500Z"
    },
    "papermill": {
     "duration": 69.965577,
     "end_time": "2024-06-08T21:15:31.666763",
     "exception": false,
     "start_time": "2024-06-08T21:14:21.701186",
     "status": "completed"
    },
    "tags": []
   },
   "outputs": [
    {
     "name": "stdout",
     "output_type": "stream",
     "text": [
      "CPU times: user 1min 9s, sys: 645 ms, total: 1min 10s\n",
      "Wall time: 1min 9s\n"
     ]
    }
   ],
   "source": [
    "%time y_predict =modelI.predict(X_test)"
   ]
  },
  {
   "cell_type": "code",
   "execution_count": 15,
   "id": "d36f8706",
   "metadata": {
    "execution": {
     "iopub.execute_input": "2024-06-08T21:15:31.795553Z",
     "iopub.status.busy": "2024-06-08T21:15:31.794785Z",
     "iopub.status.idle": "2024-06-08T21:16:40.577324Z",
     "shell.execute_reply": "2024-06-08T21:16:40.575772Z"
    },
    "papermill": {
     "duration": 68.974587,
     "end_time": "2024-06-08T21:16:40.704528",
     "exception": false,
     "start_time": "2024-06-08T21:15:31.729941",
     "status": "completed"
    },
    "tags": []
   },
   "outputs": [
    {
     "name": "stdout",
     "output_type": "stream",
     "text": [
      "Accuracy for the test set is 0.9394285714285714\n",
      "CPU times: user 1min 8s, sys: 644 ms, total: 1min 9s\n",
      "Wall time: 1min 8s\n"
     ]
    }
   ],
   "source": [
    "%time evaluate_I =modelI.evaluate(X_test, y_test)"
   ]
  },
  {
   "cell_type": "markdown",
   "id": "1d45ca27",
   "metadata": {
    "papermill": {
     "duration": 0.064559,
     "end_time": "2024-06-08T21:16:40.832476",
     "exception": false,
     "start_time": "2024-06-08T21:16:40.767917",
     "status": "completed"
    },
    "tags": []
   },
   "source": [
    "## <div style=\"padding: 10px;color:white;margin:10;font-size:60%;text-align:left;display:fill;border-radius:10px;background-color:#FFFFFF;overflow:hidden;background-color:#a5d6a7\"><b>Đo thời gian chạy</b></div>\n",
    "\n",
    "Epoch 1/1:\n",
    "\n",
    "<__main__.Convolution object at 0x7d835989d8d0>  forward 104.32253503799438\n",
    "\n",
    "<__main__.MaxPool2D object at 0x7d835989f370>  forward 10.11829924583435\n",
    "\n",
    "<__main__.Convolution object at 0x7d835989f820>  forward 287.9732811450958\n",
    "\n",
    "<__main__.Flatten object at 0x7d835989f0a0>  forward 4.363059997558594e-05\n",
    "\n",
    "<__main__.Dense object at 0x7d835989d750>  forward 0.5029819011688232\n",
    "\n",
    "<__main__.Dense object at 0x7d8388655ea0>  forward 0.006257772445678711\n",
    "\n",
    "<__main__.Dense object at 0x7d8388655ea0>  backward 0.011955976486206055\n",
    "\n",
    "<__main__.Dense object at 0x7d835989d750>  backward 1.1668565273284912\n",
    "\n",
    "<__main__.Flatten object at 0x7d835989f0a0>  backward 2.4080276489257812e-05\n",
    "\n",
    "<__main__.Convolution object at 0x7d835989f820>  backward 624.4119517803192\n",
    "\n",
    "<__main__.MaxPool2D object at 0x7d835989f370>  backward 35.853867053985596\n",
    "\n",
    "<__main__.Convolution object at 0x7d835989d8d0>  backward 397.41614818573\n",
    "\n",
    "\n",
    "### Nhận xét: \n",
    "- Bước backward thường tốn nhiều thời gian hơn so với forward.\n",
    "- Sắp xếp theo thời gian xử lý: Convolution > MaxPool2D > Dense > Flatten"
   ]
  },
  {
   "cell_type": "markdown",
   "id": "232e1536",
   "metadata": {
    "papermill": {
     "duration": 0.062952,
     "end_time": "2024-06-08T21:16:40.960248",
     "exception": false,
     "start_time": "2024-06-08T21:16:40.897296",
     "status": "completed"
    },
    "tags": []
   },
   "source": [
    "__Thống kê kết quả của phiên bản tuần tự:__\n",
    "\n",
    "|                    |Sequence Version|\n",
    "|--------------------|:----------------:|\n",
    "|Convolution(1 epoch)|    1414.12391s  |         \n",
    "|MaxPooling(1 epoch) |    45.97217s   |           \n",
    "|Dense(1 epoch)      |    1.68805s   |\n",
    "|Training(5 epoch)   |  52min 46s     |       \n",
    "|Testing(5 epoch)    |   1min 9s       |\n",
    "|Accuracy            |    93%    |   "
   ]
  },
  {
   "cell_type": "markdown",
   "id": "37b7d6a4",
   "metadata": {},
   "source": []
  }
 ],
 "metadata": {
  "kaggle": {
   "accelerator": "none",
   "dataSources": [
    {
     "datasetId": 4924120,
     "sourceId": 8289561,
     "sourceType": "datasetVersion"
    }
   ],
   "dockerImageVersionId": 30698,
   "isGpuEnabled": false,
   "isInternetEnabled": true,
   "language": "python",
   "sourceType": "notebook"
  },
  "kernelspec": {
   "display_name": "Python 3",
   "language": "python",
   "name": "python3"
  },
  "language_info": {
   "codemirror_mode": {
    "name": "ipython",
    "version": 3
   },
   "file_extension": ".py",
   "mimetype": "text/x-python",
   "name": "python",
   "nbconvert_exporter": "python",
   "pygments_lexer": "ipython3",
   "version": "3.10.13"
  },
  "papermill": {
   "default_parameters": {},
   "duration": 3505.779697,
   "end_time": "2024-06-08T21:16:42.860380",
   "environment_variables": {},
   "exception": null,
   "input_path": "__notebook__.ipynb",
   "output_path": "__notebook__.ipynb",
   "parameters": {},
   "start_time": "2024-06-08T20:18:17.080683",
   "version": "2.5.0"
  }
 },
 "nbformat": 4,
 "nbformat_minor": 5
}
